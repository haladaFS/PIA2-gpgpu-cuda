{
  "nbformat": 4,
  "nbformat_minor": 0,
  "metadata": {
    "colab": {
      "name": "Untitled3.ipynb",
      "provenance": []
    },
    "kernelspec": {
      "name": "python3",
      "display_name": "Python 3"
    },
    "language_info": {
      "name": "python"
    },
    "accelerator": "GPU"
  },
  "cells": [
    {
      "cell_type": "code",
      "metadata": {
        "colab": {
          "base_uri": "https://localhost:8080/"
        },
        "id": "AfR_Uqfx5JqN",
        "outputId": "8da9edb7-fd29-4c6f-d2be-1d82554e831c"
      },
      "source": [
        "!pip install numba"
      ],
      "execution_count": 1,
      "outputs": [
        {
          "output_type": "stream",
          "text": [
            "Requirement already satisfied: numba in /usr/local/lib/python3.7/dist-packages (0.51.2)\n",
            "Requirement already satisfied: llvmlite<0.35,>=0.34.0.dev0 in /usr/local/lib/python3.7/dist-packages (from numba) (0.34.0)\n",
            "Requirement already satisfied: numpy>=1.15 in /usr/local/lib/python3.7/dist-packages (from numba) (1.19.5)\n",
            "Requirement already satisfied: setuptools in /usr/local/lib/python3.7/dist-packages (from numba) (56.0.0)\n"
          ],
          "name": "stdout"
        }
      ]
    },
    {
      "cell_type": "markdown",
      "metadata": {
        "id": "jMtwitWv5xXG"
      },
      "source": [
        "Numpy a SciPy na GPU?\n",
        "### Numba\n",
        "https://numba.pydata.org/numba-doc/latest/user/5minguide.html"
      ]
    },
    {
      "cell_type": "code",
      "metadata": {
        "colab": {
          "base_uri": "https://localhost:8080/"
        },
        "id": "ZH62jWtf5hqm",
        "outputId": "f2c3de3e-c8ab-4ecb-d69d-92353d7bcd47"
      },
      "source": [
        "from numba import jit\n",
        "import numpy as np\n",
        "\n",
        "x = np.arange(100).reshape(10, 10)\n",
        "\n",
        "@jit(nopython=True) # Set \"nopython\" mode for best performance, equivalent to @njit\n",
        "def go_fast(a): # Function is compiled to machine code when called the first time\n",
        "    trace = 0.0\n",
        "    for i in range(a.shape[0]):   # Numba likes loops\n",
        "        trace += np.tanh(a[i, i]) # Numba likes NumPy functions\n",
        "    return a + trace              # Numba likes NumPy broadcasting\n",
        "\n",
        "print(go_fast(x))"
      ],
      "execution_count": 2,
      "outputs": [
        {
          "output_type": "stream",
          "text": [
            "[[  9.  10.  11.  12.  13.  14.  15.  16.  17.  18.]\n",
            " [ 19.  20.  21.  22.  23.  24.  25.  26.  27.  28.]\n",
            " [ 29.  30.  31.  32.  33.  34.  35.  36.  37.  38.]\n",
            " [ 39.  40.  41.  42.  43.  44.  45.  46.  47.  48.]\n",
            " [ 49.  50.  51.  52.  53.  54.  55.  56.  57.  58.]\n",
            " [ 59.  60.  61.  62.  63.  64.  65.  66.  67.  68.]\n",
            " [ 69.  70.  71.  72.  73.  74.  75.  76.  77.  78.]\n",
            " [ 79.  80.  81.  82.  83.  84.  85.  86.  87.  88.]\n",
            " [ 89.  90.  91.  92.  93.  94.  95.  96.  97.  98.]\n",
            " [ 99. 100. 101. 102. 103. 104. 105. 106. 107. 108.]]\n"
          ],
          "name": "stdout"
        }
      ]
    },
    {
      "cell_type": "markdown",
      "metadata": {
        "id": "MAocWyVe6Obt"
      },
      "source": [
        "### CuPy\n",
        "https://github.com/cupy/cupy\n",
        "https://docs.cupy.dev/en/v4.5.0/tutorial/basic.html"
      ]
    },
    {
      "cell_type": "code",
      "metadata": {
        "id": "K3f36lK45nBO"
      },
      "source": [
        ""
      ],
      "execution_count": null,
      "outputs": []
    }
  ]
}